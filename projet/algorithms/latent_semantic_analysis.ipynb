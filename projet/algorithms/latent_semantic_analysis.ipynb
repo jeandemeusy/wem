{
 "cells": [
  {
   "cell_type": "markdown",
   "metadata": {},
   "source": [
    "![MSE Logo](https://moodle.msengineering.ch/pluginfile.php/1/core_admin/logocompact/300x300/1613732714/logo-mse.png \"MSE Logo\") \n",
    "\n",
    "# Latent Semantic Analysis with Gensim"
   ]
  },
  {
   "cell_type": "code",
   "execution_count": 38,
   "metadata": {},
   "outputs": [],
   "source": [
    "import nltk\n",
    "import pandas as pd\n",
    "from TextPreprocessor import TextPreprocessor\n",
    "from gensim import models, corpora, similarities\n",
    "import json\n",
    "\n",
    "from nltk.corpus import stopwords, wordnet"
   ]
  },
  {
   "cell_type": "code",
   "execution_count": 62,
   "metadata": {},
   "outputs": [],
   "source": [
    "content = {}\n",
    "\n",
    "# with open(\"../../rss/content_daily.json\") as f:\n",
    "#     content.update(json.load(f))\n",
    "# with open(\"../../rss/content_huffpost.json\") as f:\n",
    "#     content.update(json.load(f))\n",
    "with open(\"../../rss/content_guardain.json\") as f:\n",
    "    content.update(json.load(f))\n",
    "# with open(\"../../archive_article_list_05_12/content_daily.json\") as f:\n",
    "#     content.update(json.load(f))\n",
    "with open(\"../../archive_article_list_05_12/content_guardain.json\") as f:\n",
    "    content.update(json.load(f))\n",
    "# with open(\"../../archive_article_list_05_12/content_huffpost.json\") as f:\n",
    "#     content.update(json.load(f))\n",
    "text = list(content.values())"
   ]
  },
  {
   "cell_type": "code",
   "execution_count": 63,
   "metadata": {},
   "outputs": [],
   "source": [
    "data_df = pd.DataFrame({'text': text})"
   ]
  },
  {
   "cell_type": "markdown",
   "metadata": {},
   "source": [
    "## Data preprocessing\n",
    "\n",
    "You will need first to preprocess the data through the following stages:\n",
    "1. tokenization\n",
    "2. stopword removal\n",
    "2. POS-based filtering (optional)\n",
    "3. lemmatization or stemming (optional)\n",
    "4. addition of bigrams to each document (optional)\n",
    "5. filtering of infrequent words\n",
    "6. inspection and filtering of frequent words"
   ]
  },
  {
   "cell_type": "code",
   "execution_count": 64,
   "metadata": {},
   "outputs": [],
   "source": [
    "language = 'english'\n",
    "stop_words = set(stopwords.words(language))\n",
    "stop_words = list(stop_words).extend(['\\\"', '\\'', '\\'\\'', '`', '``', '\\'s',\"'\",','])\n",
    "\n",
    "processor = TextPreprocessor(\n",
    "    language = language,\n",
    "    pos_tags = {\"n\",\"j\"},\n",
    "    stopwords = stop_words,\n",
    "    lemmatize=True,\n",
    "    remove_numbers=True,\n",
    "    punctuations=['.', ',', ':', ';', '?', '!', '\"', '\\'', '`', '``', '\\'s','\"'],\n",
    ")"
   ]
  },
  {
   "cell_type": "code",
   "execution_count": 65,
   "metadata": {},
   "outputs": [],
   "source": [
    "data_df['processed'] = processor.transform(data_df['text'])"
   ]
  },
  {
   "cell_type": "code",
   "execution_count": 66,
   "metadata": {},
   "outputs": [],
   "source": [
    "data_df['tokenized'] = data_df['processed'].apply(nltk.word_tokenize)"
   ]
  },
  {
   "cell_type": "code",
   "execution_count": 7,
   "metadata": {},
   "outputs": [
    {
     "data": {
      "text/html": [
       "<div>\n",
       "<style scoped>\n",
       "    .dataframe tbody tr th:only-of-type {\n",
       "        vertical-align: middle;\n",
       "    }\n",
       "\n",
       "    .dataframe tbody tr th {\n",
       "        vertical-align: top;\n",
       "    }\n",
       "\n",
       "    .dataframe thead th {\n",
       "        text-align: right;\n",
       "    }\n",
       "</style>\n",
       "<table border=\"1\" class=\"dataframe\">\n",
       "  <thead>\n",
       "    <tr style=\"text-align: right;\">\n",
       "      <th></th>\n",
       "      <th>text</th>\n",
       "      <th>processed</th>\n",
       "      <th>tokenized</th>\n",
       "    </tr>\n",
       "  </thead>\n",
       "  <tbody>\n",
       "    <tr>\n",
       "      <th>0</th>\n",
       "      <td>Crowds covered in Union Jack flags have gather...</td>\n",
       "      <td>crowd union jack flag mall today secure prime ...</td>\n",
       "      <td>[crowd, union, jack, flag, mall, today, secure...</td>\n",
       "    </tr>\n",
       "    <tr>\n",
       "      <th>1</th>\n",
       "      <td>As royal watchers around the world celebrate t...</td>\n",
       "      <td>royal watcher around world celebrate queen pla...</td>\n",
       "      <td>[royal, watcher, around, world, celebrate, que...</td>\n",
       "    </tr>\n",
       "    <tr>\n",
       "      <th>2</th>\n",
       "      <td>A Chinese trader has won a discrimination case...</td>\n",
       "      <td>trader discrimination case bos could admit thi...</td>\n",
       "      <td>[trader, discrimination, case, bos, could, adm...</td>\n",
       "    </tr>\n",
       "    <tr>\n",
       "      <th>3</th>\n",
       "      <td>The Atlanta activist Black Lives Matter has ap...</td>\n",
       "      <td>atlanta activist life matter straighten financ...</td>\n",
       "      <td>[atlanta, activist, life, matter, straighten, ...</td>\n",
       "    </tr>\n",
       "    <tr>\n",
       "      <th>4</th>\n",
       "      <td>Surreal images of a lion that lived in a Londo...</td>\n",
       "      <td>surreal image lion london show steak drinking ...</td>\n",
       "      <td>[surreal, image, lion, london, show, steak, dr...</td>\n",
       "    </tr>\n",
       "  </tbody>\n",
       "</table>\n",
       "</div>"
      ],
      "text/plain": [
       "                                                text  \\\n",
       "0  Crowds covered in Union Jack flags have gather...   \n",
       "1  As royal watchers around the world celebrate t...   \n",
       "2  A Chinese trader has won a discrimination case...   \n",
       "3  The Atlanta activist Black Lives Matter has ap...   \n",
       "4  Surreal images of a lion that lived in a Londo...   \n",
       "\n",
       "                                           processed  \\\n",
       "0  crowd union jack flag mall today secure prime ...   \n",
       "1  royal watcher around world celebrate queen pla...   \n",
       "2  trader discrimination case bos could admit thi...   \n",
       "3  atlanta activist life matter straighten financ...   \n",
       "4  surreal image lion london show steak drinking ...   \n",
       "\n",
       "                                           tokenized  \n",
       "0  [crowd, union, jack, flag, mall, today, secure...  \n",
       "1  [royal, watcher, around, world, celebrate, que...  \n",
       "2  [trader, discrimination, case, bos, could, adm...  \n",
       "3  [atlanta, activist, life, matter, straighten, ...  \n",
       "4  [surreal, image, lion, london, show, steak, dr...  "
      ]
     },
     "execution_count": 7,
     "metadata": {},
     "output_type": "execute_result"
    }
   ],
   "source": [
    "data_df.head()"
   ]
  },
  {
   "cell_type": "code",
   "execution_count": 67,
   "metadata": {},
   "outputs": [],
   "source": [
    "words_to_filter = {\"u\",\"two\",\"could\",\"mr\",\"mp\",\"one\", \"per\", \"cent\",\"hrt\",\"--\",\"the\",\"i\",\"'s\",\"...\",\"..\",\"u\",\"iii\",\"'\",\"it\",\"if\",\"would\",\"could\",\"may\",\"should\",\"will\",\"can\",\"that\",\"like\",\"use\",\"need\", \"no\",\"put\",\"we\",\"you\",\"he\",\"she\",\"us\"}\n",
    "\n",
    "data_df[\"filter\"] = data_df[\"tokenized\"].apply(lambda x: [word.replace(\"'\",\"\").replace(\",\",\"\").replace(\".\",\"\") for word in x]).apply(lambda x: [word for word in x if not word.isnumeric()]).apply(lambda x: [word for word in x if word not in words_to_filter]).apply(lambda x: [word for word in x if not word[:2] == \"ps\"])"
   ]
  },
  {
   "cell_type": "code",
   "execution_count": 9,
   "metadata": {},
   "outputs": [
    {
     "name": "stdout",
     "output_type": "stream",
     "text": [
      "Vocabulary length: 59652\n",
      "Most common words: 22418\n"
     ]
    },
    {
     "data": {
      "text/html": [
       "<div>\n",
       "<style scoped>\n",
       "    .dataframe tbody tr th:only-of-type {\n",
       "        vertical-align: middle;\n",
       "    }\n",
       "\n",
       "    .dataframe tbody tr th {\n",
       "        vertical-align: top;\n",
       "    }\n",
       "\n",
       "    .dataframe thead th {\n",
       "        text-align: right;\n",
       "    }\n",
       "</style>\n",
       "<table border=\"1\" class=\"dataframe\">\n",
       "  <thead>\n",
       "    <tr style=\"text-align: right;\">\n",
       "      <th></th>\n",
       "      <th>text</th>\n",
       "      <th>processed</th>\n",
       "      <th>tokenized</th>\n",
       "      <th>filter</th>\n",
       "    </tr>\n",
       "  </thead>\n",
       "  <tbody>\n",
       "    <tr>\n",
       "      <th>0</th>\n",
       "      <td>Crowds covered in Union Jack flags have gather...</td>\n",
       "      <td>crowd union jack flag mall today secure prime ...</td>\n",
       "      <td>[crowd, union, jack, flag, mall, today, secure...</td>\n",
       "      <td>[crowd, union, jack, flag, mall, today, secure...</td>\n",
       "    </tr>\n",
       "    <tr>\n",
       "      <th>1</th>\n",
       "      <td>As royal watchers around the world celebrate t...</td>\n",
       "      <td>royal watcher around world celebrate queen pla...</td>\n",
       "      <td>[royal, watcher, around, world, celebrate, que...</td>\n",
       "      <td>[royal, watcher, around, world, celebrate, que...</td>\n",
       "    </tr>\n",
       "    <tr>\n",
       "      <th>2</th>\n",
       "      <td>A Chinese trader has won a discrimination case...</td>\n",
       "      <td>trader discrimination case bos could admit thi...</td>\n",
       "      <td>[trader, discrimination, case, bos, could, adm...</td>\n",
       "      <td>[trader, discrimination, case, bos, admit, thi...</td>\n",
       "    </tr>\n",
       "    <tr>\n",
       "      <th>3</th>\n",
       "      <td>The Atlanta activist Black Lives Matter has ap...</td>\n",
       "      <td>atlanta activist life matter straighten financ...</td>\n",
       "      <td>[atlanta, activist, life, matter, straighten, ...</td>\n",
       "      <td>[atlanta, activist, life, matter, straighten, ...</td>\n",
       "    </tr>\n",
       "    <tr>\n",
       "      <th>4</th>\n",
       "      <td>Surreal images of a lion that lived in a Londo...</td>\n",
       "      <td>surreal image lion london show steak drinking ...</td>\n",
       "      <td>[surreal, image, lion, london, show, steak, dr...</td>\n",
       "      <td>[surreal, image, lion, london, show, steak, dr...</td>\n",
       "    </tr>\n",
       "  </tbody>\n",
       "</table>\n",
       "</div>"
      ],
      "text/plain": [
       "                                                text  \\\n",
       "0  Crowds covered in Union Jack flags have gather...   \n",
       "1  As royal watchers around the world celebrate t...   \n",
       "2  A Chinese trader has won a discrimination case...   \n",
       "3  The Atlanta activist Black Lives Matter has ap...   \n",
       "4  Surreal images of a lion that lived in a Londo...   \n",
       "\n",
       "                                           processed  \\\n",
       "0  crowd union jack flag mall today secure prime ...   \n",
       "1  royal watcher around world celebrate queen pla...   \n",
       "2  trader discrimination case bos could admit thi...   \n",
       "3  atlanta activist life matter straighten financ...   \n",
       "4  surreal image lion london show steak drinking ...   \n",
       "\n",
       "                                           tokenized  \\\n",
       "0  [crowd, union, jack, flag, mall, today, secure...   \n",
       "1  [royal, watcher, around, world, celebrate, que...   \n",
       "2  [trader, discrimination, case, bos, could, adm...   \n",
       "3  [atlanta, activist, life, matter, straighten, ...   \n",
       "4  [surreal, image, lion, london, show, steak, dr...   \n",
       "\n",
       "                                              filter  \n",
       "0  [crowd, union, jack, flag, mall, today, secure...  \n",
       "1  [royal, watcher, around, world, celebrate, que...  \n",
       "2  [trader, discrimination, case, bos, admit, thi...  \n",
       "3  [atlanta, activist, life, matter, straighten, ...  \n",
       "4  [surreal, image, lion, london, show, steak, dr...  "
      ]
     },
     "execution_count": 9,
     "metadata": {},
     "output_type": "execute_result"
    }
   ],
   "source": [
    "vocabulary = data_df['filter'].sum()\n",
    "\n",
    "most_common = [word for word, freq in nltk.FreqDist(vocabulary).items() if freq > 4 and word not in words_to_filter]\n",
    "\n",
    "print(f\"Vocabulary length: {len(nltk.FreqDist(vocabulary))}\")\n",
    "print(f\"Most common words: {len(most_common)}\")\n",
    "\n",
    "data_df.head()"
   ]
  },
  {
   "cell_type": "code",
   "execution_count": 68,
   "metadata": {},
   "outputs": [],
   "source": [
    "import pickle\n",
    "\n",
    "with open(\"guardian_dataframe.p\", \"wb\") as f:\n",
    "    pickle.dump(data_df,f)"
   ]
  },
  {
   "cell_type": "code",
   "execution_count": 69,
   "metadata": {},
   "outputs": [
    {
     "name": "stderr",
     "output_type": "stream",
     "text": [
      "/Users/jeandemeusy/Desktop/antede/venv/lib/python3.10/site-packages/pyLDAvis/_prepare.py:247: FutureWarning: In a future version of pandas all arguments of DataFrame.drop except for the argument 'labels' will be keyword-only.\n",
      "  by='saliency', ascending=False).head(R).drop('saliency', 1)\n",
      "/Users/jeandemeusy/Desktop/antede/venv/lib/python3.10/site-packages/joblib/backports.py:36: DeprecationWarning: distutils Version classes are deprecated. Use packaging.version instead.\n",
      "  if LooseVersion(np.__version__) < '1.13':\n",
      "/Users/jeandemeusy/Desktop/antede/venv/lib/python3.10/site-packages/setuptools/_distutils/version.py:351: DeprecationWarning: distutils Version classes are deprecated. Use packaging.version instead.\n",
      "  other = LooseVersion(other)\n",
      "/Users/jeandemeusy/Desktop/antede/venv/lib/python3.10/site-packages/joblib/backports.py:36: DeprecationWarning: distutils Version classes are deprecated. Use packaging.version instead.\n",
      "  if LooseVersion(np.__version__) < '1.13':\n",
      "/Users/jeandemeusy/Desktop/antede/venv/lib/python3.10/site-packages/setuptools/_distutils/version.py:351: DeprecationWarning: distutils Version classes are deprecated. Use packaging.version instead.\n",
      "  other = LooseVersion(other)\n",
      "/Users/jeandemeusy/Desktop/antede/venv/lib/python3.10/site-packages/joblib/backports.py:36: DeprecationWarning: distutils Version classes are deprecated. Use packaging.version instead.\n",
      "  if LooseVersion(np.__version__) < '1.13':\n",
      "/Users/jeandemeusy/Desktop/antede/venv/lib/python3.10/site-packages/setuptools/_distutils/version.py:351: DeprecationWarning: distutils Version classes are deprecated. Use packaging.version instead.\n",
      "  other = LooseVersion(other)\n",
      "/Users/jeandemeusy/Desktop/antede/venv/lib/python3.10/site-packages/joblib/backports.py:36: DeprecationWarning: distutils Version classes are deprecated. Use packaging.version instead.\n",
      "  if LooseVersion(np.__version__) < '1.13':\n",
      "/Users/jeandemeusy/Desktop/antede/venv/lib/python3.10/site-packages/setuptools/_distutils/version.py:351: DeprecationWarning: distutils Version classes are deprecated. Use packaging.version instead.\n",
      "  other = LooseVersion(other)\n",
      "/Users/jeandemeusy/Desktop/antede/venv/lib/python3.10/site-packages/joblib/backports.py:36: DeprecationWarning: distutils Version classes are deprecated. Use packaging.version instead.\n",
      "  if LooseVersion(np.__version__) < '1.13':\n",
      "/Users/jeandemeusy/Desktop/antede/venv/lib/python3.10/site-packages/setuptools/_distutils/version.py:351: DeprecationWarning: distutils Version classes are deprecated. Use packaging.version instead.\n",
      "  other = LooseVersion(other)\n",
      "/Users/jeandemeusy/Desktop/antede/venv/lib/python3.10/site-packages/joblib/backports.py:36: DeprecationWarning: distutils Version classes are deprecated. Use packaging.version instead.\n",
      "  if LooseVersion(np.__version__) < '1.13':\n",
      "/Users/jeandemeusy/Desktop/antede/venv/lib/python3.10/site-packages/setuptools/_distutils/version.py:351: DeprecationWarning: distutils Version classes are deprecated. Use packaging.version instead.\n",
      "  other = LooseVersion(other)\n",
      "/Users/jeandemeusy/Desktop/antede/venv/lib/python3.10/site-packages/joblib/backports.py:36: DeprecationWarning: distutils Version classes are deprecated. Use packaging.version instead.\n",
      "  if LooseVersion(np.__version__) < '1.13':\n",
      "/Users/jeandemeusy/Desktop/antede/venv/lib/python3.10/site-packages/setuptools/_distutils/version.py:351: DeprecationWarning: distutils Version classes are deprecated. Use packaging.version instead.\n",
      "  other = LooseVersion(other)\n",
      "/Users/jeandemeusy/Desktop/antede/venv/lib/python3.10/site-packages/joblib/backports.py:36: DeprecationWarning: distutils Version classes are deprecated. Use packaging.version instead.\n",
      "  if LooseVersion(np.__version__) < '1.13':\n",
      "/Users/jeandemeusy/Desktop/antede/venv/lib/python3.10/site-packages/setuptools/_distutils/version.py:351: DeprecationWarning: distutils Version classes are deprecated. Use packaging.version instead.\n",
      "  other = LooseVersion(other)\n",
      "/Users/jeandemeusy/Desktop/antede/venv/lib/python3.10/site-packages/joblib/backports.py:36: DeprecationWarning: distutils Version classes are deprecated. Use packaging.version instead.\n",
      "  if LooseVersion(np.__version__) < '1.13':\n",
      "/Users/jeandemeusy/Desktop/antede/venv/lib/python3.10/site-packages/setuptools/_distutils/version.py:351: DeprecationWarning: distutils Version classes are deprecated. Use packaging.version instead.\n",
      "  other = LooseVersion(other)\n",
      "/Users/jeandemeusy/Desktop/antede/venv/lib/python3.10/site-packages/joblib/backports.py:36: DeprecationWarning: distutils Version classes are deprecated. Use packaging.version instead.\n",
      "  if LooseVersion(np.__version__) < '1.13':\n",
      "/Users/jeandemeusy/Desktop/antede/venv/lib/python3.10/site-packages/setuptools/_distutils/version.py:351: DeprecationWarning: distutils Version classes are deprecated. Use packaging.version instead.\n",
      "  other = LooseVersion(other)\n",
      "/Users/jeandemeusy/Desktop/antede/venv/lib/python3.10/site-packages/joblib/backports.py:36: DeprecationWarning: distutils Version classes are deprecated. Use packaging.version instead.\n",
      "  if LooseVersion(np.__version__) < '1.13':\n",
      "/Users/jeandemeusy/Desktop/antede/venv/lib/python3.10/site-packages/setuptools/_distutils/version.py:351: DeprecationWarning: distutils Version classes are deprecated. Use packaging.version instead.\n",
      "  other = LooseVersion(other)\n",
      "/Users/jeandemeusy/Desktop/antede/venv/lib/python3.10/site-packages/joblib/backports.py:36: DeprecationWarning: distutils Version classes are deprecated. Use packaging.version instead.\n",
      "  if LooseVersion(np.__version__) < '1.13':\n",
      "/Users/jeandemeusy/Desktop/antede/venv/lib/python3.10/site-packages/setuptools/_distutils/version.py:351: DeprecationWarning: distutils Version classes are deprecated. Use packaging.version instead.\n",
      "  other = LooseVersion(other)\n",
      "/Users/jeandemeusy/Desktop/antede/venv/lib/python3.10/site-packages/joblib/backports.py:36: DeprecationWarning: distutils Version classes are deprecated. Use packaging.version instead.\n",
      "  if LooseVersion(np.__version__) < '1.13':\n",
      "/Users/jeandemeusy/Desktop/antede/venv/lib/python3.10/site-packages/setuptools/_distutils/version.py:351: DeprecationWarning: distutils Version classes are deprecated. Use packaging.version instead.\n",
      "  other = LooseVersion(other)\n",
      "/Users/jeandemeusy/Desktop/antede/venv/lib/python3.10/site-packages/joblib/backports.py:36: DeprecationWarning: distutils Version classes are deprecated. Use packaging.version instead.\n",
      "  if LooseVersion(np.__version__) < '1.13':\n",
      "/Users/jeandemeusy/Desktop/antede/venv/lib/python3.10/site-packages/setuptools/_distutils/version.py:351: DeprecationWarning: distutils Version classes are deprecated. Use packaging.version instead.\n",
      "  other = LooseVersion(other)\n",
      "/Users/jeandemeusy/Desktop/antede/venv/lib/python3.10/site-packages/joblib/backports.py:36: DeprecationWarning: distutils Version classes are deprecated. Use packaging.version instead.\n",
      "  if LooseVersion(np.__version__) < '1.13':\n",
      "/Users/jeandemeusy/Desktop/antede/venv/lib/python3.10/site-packages/setuptools/_distutils/version.py:351: DeprecationWarning: distutils Version classes are deprecated. Use packaging.version instead.\n",
      "  other = LooseVersion(other)\n",
      "/Users/jeandemeusy/Desktop/antede/venv/lib/python3.10/site-packages/joblib/backports.py:36: DeprecationWarning: distutils Version classes are deprecated. Use packaging.version instead.\n",
      "  if LooseVersion(np.__version__) < '1.13':\n",
      "/Users/jeandemeusy/Desktop/antede/venv/lib/python3.10/site-packages/setuptools/_distutils/version.py:351: DeprecationWarning: distutils Version classes are deprecated. Use packaging.version instead.\n",
      "  other = LooseVersion(other)\n",
      "/Users/jeandemeusy/Desktop/antede/venv/lib/python3.10/site-packages/joblib/backports.py:36: DeprecationWarning: distutils Version classes are deprecated. Use packaging.version instead.\n",
      "  if LooseVersion(np.__version__) < '1.13':\n",
      "/Users/jeandemeusy/Desktop/antede/venv/lib/python3.10/site-packages/setuptools/_distutils/version.py:351: DeprecationWarning: distutils Version classes are deprecated. Use packaging.version instead.\n",
      "  other = LooseVersion(other)\n",
      "/Users/jeandemeusy/Desktop/antede/venv/lib/python3.10/site-packages/joblib/backports.py:36: DeprecationWarning: distutils Version classes are deprecated. Use packaging.version instead.\n",
      "  if LooseVersion(np.__version__) < '1.13':\n",
      "/Users/jeandemeusy/Desktop/antede/venv/lib/python3.10/site-packages/setuptools/_distutils/version.py:351: DeprecationWarning: distutils Version classes are deprecated. Use packaging.version instead.\n",
      "  other = LooseVersion(other)\n",
      "/Users/jeandemeusy/Desktop/antede/venv/lib/python3.10/site-packages/joblib/backports.py:36: DeprecationWarning: distutils Version classes are deprecated. Use packaging.version instead.\n",
      "  if LooseVersion(np.__version__) < '1.13':\n",
      "/Users/jeandemeusy/Desktop/antede/venv/lib/python3.10/site-packages/setuptools/_distutils/version.py:351: DeprecationWarning: distutils Version classes are deprecated. Use packaging.version instead.\n",
      "  other = LooseVersion(other)\n",
      "/Users/jeandemeusy/Desktop/antede/venv/lib/python3.10/site-packages/joblib/backports.py:36: DeprecationWarning: distutils Version classes are deprecated. Use packaging.version instead.\n",
      "  if LooseVersion(np.__version__) < '1.13':\n",
      "/Users/jeandemeusy/Desktop/antede/venv/lib/python3.10/site-packages/setuptools/_distutils/version.py:351: DeprecationWarning: distutils Version classes are deprecated. Use packaging.version instead.\n",
      "  other = LooseVersion(other)\n",
      "/Users/jeandemeusy/Desktop/antede/venv/lib/python3.10/site-packages/joblib/backports.py:36: DeprecationWarning: distutils Version classes are deprecated. Use packaging.version instead.\n",
      "  if LooseVersion(np.__version__) < '1.13':\n",
      "/Users/jeandemeusy/Desktop/antede/venv/lib/python3.10/site-packages/setuptools/_distutils/version.py:351: DeprecationWarning: distutils Version classes are deprecated. Use packaging.version instead.\n",
      "  other = LooseVersion(other)\n",
      "/Users/jeandemeusy/Desktop/antede/venv/lib/python3.10/site-packages/joblib/backports.py:36: DeprecationWarning: distutils Version classes are deprecated. Use packaging.version instead.\n",
      "  if LooseVersion(np.__version__) < '1.13':\n",
      "/Users/jeandemeusy/Desktop/antede/venv/lib/python3.10/site-packages/setuptools/_distutils/version.py:351: DeprecationWarning: distutils Version classes are deprecated. Use packaging.version instead.\n",
      "  other = LooseVersion(other)\n"
     ]
    }
   ],
   "source": [
    "import pyLDAvis\n",
    "import pyLDAvis.gensim_models \n",
    "\n",
    "\n",
    "def get_corpus(filtered_texts):\n",
    "    dictionary = corpora.Dictionary(filtered_texts)\n",
    "    corpus = [dictionary.doc2bow(text) for text in filtered_texts]\n",
    "\n",
    "    return corpus\n",
    "\n",
    "\n",
    "with open(\"all_sites_dataframe.p\", \"rb\") as f:\n",
    "    all_df = pickle.load(f)\n",
    "\n",
    "with open(\"lsa_model.p\",\"rb\") as f:\n",
    "    lsa_model = pickle.load(f)\n",
    "\n",
    "corpus = get_corpus(data_df[\"filter\"])\n",
    "id2word = corpora.Dictionary(all_df['filter'])\n",
    "\n",
    "pyLDAvis.enable_notebook()\n",
    "vis = pyLDAvis.gensim_models.prepare(lsa_model, corpus, id2word)\n",
    "\n",
    "with open(\"guardian_topics.json\",\"w\") as f:\n",
    "    f.write(vis.to_json())"
   ]
  },
  {
   "cell_type": "code",
   "execution_count": 76,
   "metadata": {},
   "outputs": [
    {
     "data": {
      "text/plain": [
       "2679"
      ]
     },
     "execution_count": 76,
     "metadata": {},
     "output_type": "execute_result"
    }
   ],
   "source": [
    "with open(\"guardian_dataframe.p\", \"rb\") as f:\n",
    "    df = pickle.load(f)\n",
    "\n",
    "len(df)"
   ]
  },
  {
   "cell_type": "code",
   "execution_count": null,
   "metadata": {},
   "outputs": [],
   "source": []
  },
  {
   "cell_type": "code",
   "execution_count": null,
   "metadata": {},
   "outputs": [],
   "source": []
  }
 ],
 "metadata": {
  "interpreter": {
   "hash": "08678a8541f14a85fadc7dc4a91337bf2218a82243f69853bfad973764afac67"
  },
  "kernelspec": {
   "display_name": "Python 3.10.4",
   "language": "python",
   "name": "python3"
  },
  "language_info": {
   "codemirror_mode": {
    "name": "ipython",
    "version": 3
   },
   "file_extension": ".py",
   "mimetype": "text/x-python",
   "name": "python",
   "nbconvert_exporter": "python",
   "pygments_lexer": "ipython3",
   "version": "3.10.4"
  }
 },
 "nbformat": 4,
 "nbformat_minor": 2
}
